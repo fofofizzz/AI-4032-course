{
  "nbformat": 4,
  "nbformat_minor": 0,
  "metadata": {
    "colab": {
      "provenance": [],
      "toc_visible": true,
      "authorship_tag": "ABX9TyMBcu+XXXbwC9l8ziJ45P4w",
      "include_colab_link": true
    },
    "kernelspec": {
      "name": "python3",
      "display_name": "Python 3"
    },
    "language_info": {
      "name": "python"
    }
  },
  "cells": [
    {
      "cell_type": "markdown",
      "metadata": {
        "id": "view-in-github",
        "colab_type": "text"
      },
      "source": [
        "<a href=\"https://colab.research.google.com/github/fofofizzz/AI-4032-course/blob/main/Hw1.ipynb\" target=\"_parent\"><img src=\"https://colab.research.google.com/assets/colab-badge.svg\" alt=\"Open In Colab\"/></a>"
      ]
    },
    {
      "cell_type": "markdown",
      "source": [
        "# New Section"
      ],
      "metadata": {
        "id": "7vQICQKVPi8T"
      }
    },
    {
      "cell_type": "code",
      "source": [
        "import numpy as np"
      ],
      "metadata": {
        "id": "e39AuQB7PdhS"
      },
      "execution_count": null,
      "outputs": []
    },
    {
      "cell_type": "code",
      "source": [
        "from google.colab import drive\n",
        "drive.mount('/content/drive')"
      ],
      "metadata": {
        "colab": {
          "base_uri": "https://localhost:8080/"
        },
        "id": "RUSbqIAtzk4u",
        "outputId": "7db574bb-be62-40c9-c858-6968a5f8c494"
      },
      "execution_count": null,
      "outputs": [
        {
          "output_type": "stream",
          "name": "stdout",
          "text": [
            "Mounted at /content/drive\n"
          ]
        }
      ]
    },
    {
      "cell_type": "code",
      "source": [
        "import os\n",
        "\n",
        "# لیست کردن فایل‌ها در پوشه data\n",
        "data_path = '/content/drive/My Drive/data'\n",
        "print(os.listdir(data_path))"
      ],
      "metadata": {
        "colab": {
          "base_uri": "https://localhost:8080/"
        },
        "id": "G9uJGBAP10pw",
        "outputId": "3ecba81f-697f-41ba-9b8c-21b7e5845b9f"
      },
      "execution_count": null,
      "outputs": [
        {
          "output_type": "stream",
          "name": "stdout",
          "text": [
            "['110.mat']\n"
          ]
        }
      ]
    },
    {
      "cell_type": "code",
      "source": [
        "file_path = '/content/drive/My Drive/my_data/110.mat'"
      ],
      "metadata": {
        "id": "sgt_FriY2cFj"
      },
      "execution_count": null,
      "outputs": []
    },
    {
      "cell_type": "code",
      "source": [
        "import scipy.io\n",
        "\n",
        "# مسیر فایل .mat\n",
        "file_path = '/content/drive/My Drive/data/110.mat'\n",
        "\n",
        "# بارگذاری فایل .mat\n",
        "data = scipy.io.loadmat(file_path)\n",
        "\n",
        "# نمایش محتویات فایل\n",
        "print(data)"
      ],
      "metadata": {
        "colab": {
          "base_uri": "https://localhost:8080/"
        },
        "id": "QLObVL052pR6",
        "outputId": "ed0e04a3-172e-4271-e744-ed52d32f0a00"
      },
      "execution_count": null,
      "outputs": [
        {
          "output_type": "stream",
          "name": "stdout",
          "text": [
            "{'__header__': b'MATLAB 5.0 MAT-file, Platform: PCWIN, Created on: Fri Jan 28 11:27:55 2000', '__version__': '1.0', '__globals__': [], 'X110_DE_time': array([[ 0.03212677],\n",
            "       [ 0.07823077],\n",
            "       [ 0.16146831],\n",
            "       ...,\n",
            "       [-0.08845292],\n",
            "       [-0.02899754],\n",
            "       [ 0.00855323]]), 'X110_FE_time': array([[0.08629091],\n",
            "       [0.11053455],\n",
            "       [0.11012364],\n",
            "       ...,\n",
            "       [0.40145818],\n",
            "       [0.46782   ],\n",
            "       [0.52534727]]), 'X110RPM': array([[1772]], dtype=uint16)}\n"
          ]
        }
      ]
    },
    {
      "cell_type": "code",
      "source": [],
      "metadata": {
        "id": "MXcBGlwy3ohh"
      },
      "execution_count": null,
      "outputs": []
    }
  ]
}